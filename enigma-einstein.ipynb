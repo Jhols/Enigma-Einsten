{
 "cells": [
  {
   "cell_type": "markdown",
   "metadata": {},
   "source": [
    "### **Enigma de Einsten resolvido com Prolog**"
   ]
  },
  {
   "cell_type": "code",
   "execution_count": 1,
   "metadata": {},
   "outputs": [],
   "source": [
    "import requests\n",
    "# from tkinter import *\n",
    "import tkinter as tk\n",
    "\n",
    "import numpy as np\n",
    "import pandas as pd\n",
    "import win32com.client as win32\n"
   ]
  },
  {
   "cell_type": "code",
   "execution_count": 4,
   "metadata": {},
   "outputs": [
    {
     "name": "stdout",
     "output_type": "stream",
     "text": [
      "pessoa\n",
      "casa\n"
     ]
    }
   ],
   "source": [
    "principal = tk.Tk() # Janela principal da interface\n",
    "principal.title('Enigma de Einstein')\n",
    "principal.geometry('700x400')\n",
    "\n",
    "# Constantes\n",
    "QTD_FAMILIAS = 5\n",
    "BTN_WIDTH = 10\n",
    "\n",
    "def inserir_input(janela, btnOpc, inputTxt):\n",
    "    print(btnOpc)\n",
    "    lbl = tk.Label(janela, text=btnOpc)\n",
    "    lbl.grid(column=2, row=7)\n",
    "    # inputTxt = tk.Entry(janela, width=30, bg='blue', fg='white')\n",
    "    # inputTxt.grid(column=2, row=2, padx=10, pady=10)\n",
    "    \n",
    "    # btnOpc_casa = False;\n",
    "    # btnOpc_pessoa = False;\n",
    "    # btnOpc_comida = False;\n",
    "    # btnOpc_bebida = False;\n",
    "    # btnOpc_animal = False;\n",
    "    inputTxt.delete(0, 'end')\n",
    "    btnOk = tk.Button(janela, text='Ok', command=lambda: inserir_dica(janela, btnOpc, inputTxt))\n",
    "    btnOk.grid(column=3, row=7, padx=10, pady=10)\n",
    "    \n",
    "    if btnOpc == 'casa':\n",
    "        inputTxt.grid_remove()\n",
    "        inputTxt.grid(column=2, row=2, padx=10, pady=10)\n",
    "    elif btnOpc == 'pessoa':\n",
    "        inputTxt.grid_remove()\n",
    "        inputTxt.grid(column=2, row=3, padx=10, pady=10)\n",
    "    elif btnOpc == 'comida':\n",
    "        inputTxt.grid_remove()\n",
    "        inputTxt.grid(column=2, row=4, padx=10, pady=10)\n",
    "    elif btnOpc == 'bebida':\n",
    "        inputTxt.grid_remove()\n",
    "        inputTxt.grid(column=2, row=5, padx=10, pady=10)\n",
    "    elif btnOpc == 'animal':\n",
    "        inputTxt.grid_remove()\n",
    "        inputTxt.grid(column=2, row=6, padx=10, pady=10)\n",
    "\n",
    "\n",
    "def inserir_dica(janela, btnOpc, inputTxt):\n",
    "    lbl = tk.Label(janela, text=inputTxt.get())\n",
    "    lbl.grid(column=2, row=8)\n",
    "\n",
    "    hints.append(inputTxt.get())\n",
    "    \n",
    "    ht = tk.Label(principal, text=hints.pop())\n",
    "    ht.grid(column=3, row=2)\n",
    "\n",
    "\n",
    "# def inserir_dica(opc):\n",
    "#     if (opc == 'casa'):\n",
    "#         bt_casa.grid(column=1, row=2, padx=10, pady=10)\n",
    "    # return\n",
    "\n",
    "\n",
    "def menu_dica():\n",
    "\n",
    "    jan_dica = tk.Tk() # Janela da inserção de dicas\n",
    "\n",
    "    inputTxt = tk.Entry(jan_dica, width=30, bg='blue', fg='white')\n",
    "    # inputTxt.grid(column=2, row=2, padx=10, pady=10)\n",
    "    \n",
    "    btn_casa   = tk.Button(jan_dica, text='Casa'  , width=BTN_WIDTH, command= lambda: inserir_input(jan_dica, 'casa', inputTxt))\n",
    "    btn_pessoa = tk.Button(jan_dica, text='Pessoa', width=BTN_WIDTH, command= lambda: inserir_input(jan_dica, 'pessoa', inputTxt))\n",
    "    btn_comida = tk.Button(jan_dica, text='Comida', width=BTN_WIDTH, command= lambda: inserir_input(jan_dica, 'comida', inputTxt))\n",
    "    btn_bebida = tk.Button(jan_dica, text='Bebida', width=BTN_WIDTH, command= lambda: inserir_input(jan_dica, 'bebida', inputTxt))\n",
    "    btn_animal = tk.Button(jan_dica, text='Animal', width=BTN_WIDTH, command= lambda: inserir_input(jan_dica, 'animal', inputTxt))\n",
    "\n",
    "    btn_casa.grid(column=1,row=2)\n",
    "    btn_pessoa.grid(column=1,row=3)\n",
    "    btn_comida.grid(column=1,row=4)\n",
    "    btn_bebida.grid(column=1,row=5)\n",
    "    btn_animal.grid(column=1,row=6)\n",
    "\n",
    "    # inputTxt = tk.Entry(jan_dica, width=30, bg='blue', fg='white')\n",
    "    \n",
    "    # inputTxt1 = tk.Entry(jan_dica, width=30, bg='blue', fg='white')\n",
    "\n",
    "    # inputTxtCasa   = tk.Entry(jan_dica, width=30, bg='blue', fg='white')\n",
    "    # inputTxtPessoa = tk.Entry(jan_dica, width=30, bg='blue', fg='white')\n",
    "    # inputTxtComida = tk.Entry(jan_dica, width=30, bg='blue', fg='white')\n",
    "    # inputTxtBebida = tk.Entry(jan_dica, width=30, bg='blue', fg='white')\n",
    "    # inputTxtAnimal = tk.Entry(jan_dica, width=30, bg='blue', fg='white')\n",
    "\n",
    "    jan_dica.mainloop()\n",
    "    \n",
    "hints = []\n",
    "\n",
    "\n",
    "btn_inserir_dica = tk.Button(principal, text='Inserir dica', width=BTN_WIDTH, command=menu_dica)\n",
    "btn_inserir_dica.grid(column=3, row=3)\n",
    "\n",
    "\n",
    "principal.mainloop()\n",
    "\n",
    "\n",
    "\n"
   ]
  },
  {
   "cell_type": "code",
   "execution_count": 6,
   "metadata": {},
   "outputs": [
    {
     "ename": "IndexError",
     "evalue": "list index out of range",
     "output_type": "error",
     "traceback": [
      "\u001b[1;31m---------------------------------------------------------------------------\u001b[0m",
      "\u001b[1;31mIndexError\u001b[0m                                Traceback (most recent call last)",
      "\u001b[1;32mC:\\Users\\JOAOPE~1\\AppData\\Local\\Temp/ipykernel_14756/1473440284.py\u001b[0m in \u001b[0;36m<module>\u001b[1;34m\u001b[0m\n\u001b[1;32m----> 1\u001b[1;33m \u001b[1;32mfrom\u001b[0m \u001b[0mpyswip\u001b[0m \u001b[1;32mimport\u001b[0m \u001b[0mProlog\u001b[0m\u001b[1;33m\u001b[0m\u001b[1;33m\u001b[0m\u001b[0m\n\u001b[0m\u001b[0;32m      2\u001b[0m \u001b[0mprolog\u001b[0m \u001b[1;33m=\u001b[0m \u001b[0mProlog\u001b[0m\u001b[1;33m(\u001b[0m\u001b[1;33m)\u001b[0m\u001b[1;33m\u001b[0m\u001b[1;33m\u001b[0m\u001b[0m\n\u001b[0;32m      3\u001b[0m \u001b[0mprolog\u001b[0m\u001b[1;33m.\u001b[0m\u001b[0massertz\u001b[0m\u001b[1;33m(\u001b[0m\u001b[1;34m\"father(michel,john)\"\u001b[0m\u001b[1;33m)\u001b[0m\u001b[1;33m\u001b[0m\u001b[1;33m\u001b[0m\u001b[0m\n",
      "\u001b[1;32mc:\\Python38\\lib\\site-packages\\pyswip\\__init__.py\u001b[0m in \u001b[0;36m<module>\u001b[1;34m\u001b[0m\n\u001b[0;32m     27\u001b[0m \u001b[0m__VERSION__\u001b[0m \u001b[1;33m=\u001b[0m \u001b[1;34m\"0.2.7\"\u001b[0m\u001b[1;33m\u001b[0m\u001b[1;33m\u001b[0m\u001b[0m\n\u001b[0;32m     28\u001b[0m \u001b[1;33m\u001b[0m\u001b[0m\n\u001b[1;32m---> 29\u001b[1;33m \u001b[1;32mfrom\u001b[0m \u001b[0mpyswip\u001b[0m\u001b[1;33m.\u001b[0m\u001b[0mprolog\u001b[0m \u001b[1;32mimport\u001b[0m \u001b[0mProlog\u001b[0m\u001b[1;33m\u001b[0m\u001b[1;33m\u001b[0m\u001b[0m\n\u001b[0m\u001b[0;32m     30\u001b[0m \u001b[1;32mfrom\u001b[0m \u001b[0mpyswip\u001b[0m\u001b[1;33m.\u001b[0m\u001b[0measy\u001b[0m \u001b[1;32mimport\u001b[0m \u001b[1;33m*\u001b[0m\u001b[1;33m\u001b[0m\u001b[1;33m\u001b[0m\u001b[0m\n",
      "\u001b[1;32mc:\\Python38\\lib\\site-packages\\pyswip\\prolog.py\u001b[0m in \u001b[0;36m<module>\u001b[1;34m\u001b[0m\n\u001b[0;32m     26\u001b[0m \u001b[1;32mimport\u001b[0m \u001b[0msys\u001b[0m\u001b[1;33m\u001b[0m\u001b[1;33m\u001b[0m\u001b[0m\n\u001b[0;32m     27\u001b[0m \u001b[1;33m\u001b[0m\u001b[0m\n\u001b[1;32m---> 28\u001b[1;33m \u001b[1;32mfrom\u001b[0m \u001b[0mpyswip\u001b[0m\u001b[1;33m.\u001b[0m\u001b[0mcore\u001b[0m \u001b[1;32mimport\u001b[0m \u001b[1;33m*\u001b[0m\u001b[1;33m\u001b[0m\u001b[1;33m\u001b[0m\u001b[0m\n\u001b[0m\u001b[0;32m     29\u001b[0m \u001b[1;33m\u001b[0m\u001b[0m\n\u001b[0;32m     30\u001b[0m \u001b[1;33m\u001b[0m\u001b[0m\n",
      "\u001b[1;32mc:\\Python38\\lib\\site-packages\\pyswip\\core.py\u001b[0m in \u001b[0;36m<module>\u001b[1;34m\u001b[0m\n\u001b[0;32m    565\u001b[0m \u001b[1;31m# Find the path and resource file. SWI_HOME_DIR shall be treated as a constant\u001b[0m\u001b[1;33m\u001b[0m\u001b[1;33m\u001b[0m\u001b[1;33m\u001b[0m\u001b[0m\n\u001b[0;32m    566\u001b[0m \u001b[1;31m# by users of this module\u001b[0m\u001b[1;33m\u001b[0m\u001b[1;33m\u001b[0m\u001b[1;33m\u001b[0m\u001b[0m\n\u001b[1;32m--> 567\u001b[1;33m \u001b[1;33m(\u001b[0m\u001b[0m_path\u001b[0m\u001b[1;33m,\u001b[0m \u001b[0mSWI_HOME_DIR\u001b[0m\u001b[1;33m)\u001b[0m \u001b[1;33m=\u001b[0m \u001b[0m_findSwipl\u001b[0m\u001b[1;33m(\u001b[0m\u001b[1;33m)\u001b[0m\u001b[1;33m\u001b[0m\u001b[1;33m\u001b[0m\u001b[0m\n\u001b[0m\u001b[0;32m    568\u001b[0m \u001b[0m_fixWindowsPath\u001b[0m\u001b[1;33m(\u001b[0m\u001b[0m_path\u001b[0m\u001b[1;33m)\u001b[0m\u001b[1;33m\u001b[0m\u001b[1;33m\u001b[0m\u001b[0m\n\u001b[0;32m    569\u001b[0m \u001b[1;33m\u001b[0m\u001b[0m\n",
      "\u001b[1;32mc:\\Python38\\lib\\site-packages\\pyswip\\core.py\u001b[0m in \u001b[0;36m_findSwipl\u001b[1;34m()\u001b[0m\n\u001b[0;32m    408\u001b[0m     \u001b[1;32mif\u001b[0m \u001b[0mplatform\u001b[0m \u001b[1;33m==\u001b[0m \u001b[1;34m\"win\"\u001b[0m\u001b[1;33m:\u001b[0m \u001b[1;31m# In Windows, we have the default installer\u001b[0m\u001b[1;33m\u001b[0m\u001b[1;33m\u001b[0m\u001b[0m\n\u001b[0;32m    409\u001b[0m                                    \u001b[1;31m# path and the registry to look\u001b[0m\u001b[1;33m\u001b[0m\u001b[1;33m\u001b[0m\u001b[1;33m\u001b[0m\u001b[0m\n\u001b[1;32m--> 410\u001b[1;33m         \u001b[1;33m(\u001b[0m\u001b[0mpath\u001b[0m\u001b[1;33m,\u001b[0m \u001b[0mswiHome\u001b[0m\u001b[1;33m)\u001b[0m \u001b[1;33m=\u001b[0m \u001b[0m_findSwiplWin\u001b[0m\u001b[1;33m(\u001b[0m\u001b[1;33m)\u001b[0m\u001b[1;33m\u001b[0m\u001b[1;33m\u001b[0m\u001b[0m\n\u001b[0m\u001b[0;32m    411\u001b[0m \u001b[1;33m\u001b[0m\u001b[0m\n\u001b[0;32m    412\u001b[0m     \u001b[1;32melif\u001b[0m \u001b[0mplatform\u001b[0m \u001b[1;32min\u001b[0m \u001b[1;33m(\u001b[0m\u001b[1;34m\"lin\"\u001b[0m\u001b[1;33m,\u001b[0m \u001b[1;34m\"cyg\"\u001b[0m\u001b[1;33m)\u001b[0m\u001b[1;33m:\u001b[0m\u001b[1;33m\u001b[0m\u001b[1;33m\u001b[0m\u001b[0m\n",
      "\u001b[1;32mc:\\Python38\\lib\\site-packages\\pyswip\\core.py\u001b[0m in \u001b[0;36m_findSwiplWin\u001b[1;34m()\u001b[0m\n\u001b[0;32m    206\u001b[0m         \u001b[0mret\u001b[0m \u001b[1;33m=\u001b[0m \u001b[1;33m[\u001b[0m\u001b[0mline\u001b[0m\u001b[1;33m.\u001b[0m\u001b[0mdecode\u001b[0m\u001b[1;33m(\u001b[0m\u001b[1;34m\"utf-8\"\u001b[0m\u001b[1;33m)\u001b[0m \u001b[1;32mfor\u001b[0m \u001b[0mline\u001b[0m \u001b[1;32min\u001b[0m \u001b[0mret\u001b[0m \u001b[1;32mif\u001b[0m \u001b[0mlen\u001b[0m\u001b[1;33m(\u001b[0m\u001b[0mline\u001b[0m\u001b[1;33m)\u001b[0m \u001b[1;33m>\u001b[0m \u001b[1;36m0\u001b[0m\u001b[1;33m]\u001b[0m\u001b[1;33m\u001b[0m\u001b[1;33m\u001b[0m\u001b[0m\n\u001b[0;32m    207\u001b[0m         \u001b[0mpattern\u001b[0m \u001b[1;33m=\u001b[0m \u001b[0mre\u001b[0m\u001b[1;33m.\u001b[0m\u001b[0mcompile\u001b[0m\u001b[1;33m(\u001b[0m\u001b[1;34m'[^h]*home[^R]*REG_SZ( |\\t)*(.*)$'\u001b[0m\u001b[1;33m)\u001b[0m\u001b[1;33m\u001b[0m\u001b[1;33m\u001b[0m\u001b[0m\n\u001b[1;32m--> 208\u001b[1;33m         \u001b[0mmatch\u001b[0m \u001b[1;33m=\u001b[0m \u001b[0mpattern\u001b[0m\u001b[1;33m.\u001b[0m\u001b[0mmatch\u001b[0m\u001b[1;33m(\u001b[0m\u001b[0mret\u001b[0m\u001b[1;33m[\u001b[0m\u001b[1;33m-\u001b[0m\u001b[1;36m1\u001b[0m\u001b[1;33m]\u001b[0m\u001b[1;33m)\u001b[0m\u001b[1;33m\u001b[0m\u001b[1;33m\u001b[0m\u001b[0m\n\u001b[0m\u001b[0;32m    209\u001b[0m         \u001b[1;32mif\u001b[0m \u001b[0mmatch\u001b[0m \u001b[1;32mis\u001b[0m \u001b[1;32mnot\u001b[0m \u001b[1;32mNone\u001b[0m\u001b[1;33m:\u001b[0m\u001b[1;33m\u001b[0m\u001b[1;33m\u001b[0m\u001b[0m\n\u001b[0;32m    210\u001b[0m             \u001b[0mpath\u001b[0m \u001b[1;33m=\u001b[0m \u001b[0mmatch\u001b[0m\u001b[1;33m.\u001b[0m\u001b[0mgroup\u001b[0m\u001b[1;33m(\u001b[0m\u001b[1;36m2\u001b[0m\u001b[1;33m)\u001b[0m\u001b[1;33m\u001b[0m\u001b[1;33m\u001b[0m\u001b[0m\n",
      "\u001b[1;31mIndexError\u001b[0m: list index out of range"
     ]
    }
   ],
   "source": [
    "from pyswip import Prolog\n",
    "prolog = Prolog()\n",
    "prolog.assertz(\"father(michel,john)\")"
   ]
  }
 ],
 "metadata": {
  "interpreter": {
   "hash": "9650cb4e16cdd4a8e8e2d128bf38d875813998db22a3c986335f89e0cb4d7bb2"
  },
  "kernelspec": {
   "display_name": "Python 3.8.5 64-bit",
   "language": "python",
   "name": "python3"
  },
  "language_info": {
   "codemirror_mode": {
    "name": "ipython",
    "version": 3
   },
   "file_extension": ".py",
   "mimetype": "text/x-python",
   "name": "python",
   "nbconvert_exporter": "python",
   "pygments_lexer": "ipython3",
   "version": "3.8.5"
  },
  "orig_nbformat": 4
 },
 "nbformat": 4,
 "nbformat_minor": 2
}
