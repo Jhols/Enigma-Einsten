{
 "cells": [
  {
   "cell_type": "markdown",
   "metadata": {},
   "source": [
    "### **Enigma de Einsten resolvido com Prolog**"
   ]
  },
  {
   "cell_type": "code",
   "execution_count": 90,
   "metadata": {},
   "outputs": [],
   "source": [
    "import requests\n",
    "from tkinter import *\n",
    "\n",
    "import pandas as pd\n",
    "import win32com.client as win32\n"
   ]
  },
  {
   "cell_type": "code",
   "execution_count": 138,
   "metadata": {},
   "outputs": [],
   "source": [
    "janela = Tk() # Cria a janela\n",
    "janela.title('Enigma de Eistein')\n",
    "janela.geometry('700x400')\n",
    "\n",
    "casa   = []\n",
    "pessoa = []\n",
    "comida = []\n",
    "bebida = []\n",
    "animal = []\n",
    "\n",
    "def pegar_valores():\n",
    "    \n",
    "    elemento = 'casa'\n",
    "    valor = 5#Entry(janela, column=3, row=8, bg='gray')\n",
    "    # valor.pack()\n",
    "\n",
    "    texto = elemento + ': ' + str(valor)\n",
    "\n",
    "    texto_valores['text'] = texto\n",
    "    return\n",
    "\n",
    "def pega_texto():\n",
    "    texto = inputTxt.get()\n",
    "    texto_valores['text'] = texto\n",
    "\n",
    "texto_orientacao = Label(janela, text='Selecione um item')\n",
    "texto_orientacao.grid(column=2, row=0, padx=10, pady=10)\n",
    "\n",
    "for i in range(5):\n",
    "    j=1\n",
    "    casa.append(Button(janela, text='Casa '+str(i+1), width=8, command=pegar_valores))\n",
    "    casa[i].grid(column=i, row=j, padx=10, pady=10)\n",
    "    j+=1\n",
    "    pessoa.append(Button(janela, text='Pessoa '+str(i+1), width=8, command=pegar_valores))\n",
    "    pessoa[i].grid(column=i, row=j, padx=10, pady=10)\n",
    "    j+=1\n",
    "    comida.append(Button(janela, text='Comida '+str(i+1), width=8, command=pegar_valores))\n",
    "    comida[i].grid(column=i, row=j, padx=10, pady=10)\n",
    "    j+=1\n",
    "    bebida.append(Button(janela, text='Bebida '+str(i+1), width=8, command=pegar_valores))\n",
    "    bebida[i].grid(column=i, row=j, padx=10, pady=10)\n",
    "    j+=1\n",
    "    animal.append(Button(janela, text='Animal '+str(i+1), width=8, command=pegar_valores))\n",
    "    animal[i].grid(column=i, row=j, padx=10, pady=10)\n",
    "    \n",
    "\n",
    "texto_valores = Label(janela, text='')\n",
    "texto_valores.grid(column=2, row=8, padx=10, pady=10)\n",
    "\n",
    "hintLbl = Label(janela, text='Hint')\n",
    "hintLbl.grid(column=6, row=1, padx=10, pady=10)\n",
    "\n",
    "inputTxt = Entry(janela, width=30, bg='blue', fg='white')\n",
    "inputTxt.grid(column=6, row=2, padx=10, pady=10)\n",
    "\n",
    "btnOk = Button(janela, text='Inserir', width=10, command=pega_texto)\n",
    "btnOk.grid(column=6, row=3, padx=10, pady=10)\n",
    "\n",
    "janela.mainloop()"
   ]
  }
 ],
 "metadata": {
  "interpreter": {
   "hash": "2db524e06e9f5f4ffedc911c917cb75e12dbc923643829bf417064a77eb14d37"
  },
  "kernelspec": {
   "display_name": "Python 3.8.5 64-bit",
   "language": "python",
   "name": "python3"
  },
  "language_info": {
   "codemirror_mode": {
    "name": "ipython",
    "version": 3
   },
   "file_extension": ".py",
   "mimetype": "text/x-python",
   "name": "python",
   "nbconvert_exporter": "python",
   "pygments_lexer": "ipython3",
   "version": "3.8.5"
  },
  "orig_nbformat": 4
 },
 "nbformat": 4,
 "nbformat_minor": 2
}
